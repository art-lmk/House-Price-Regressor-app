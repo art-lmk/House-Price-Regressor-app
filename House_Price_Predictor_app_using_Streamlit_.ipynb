{
  "nbformat": 4,
  "nbformat_minor": 0,
  "metadata": {
    "colab": {
      "provenance": [],
      "toc_visible": true,
      "authorship_tag": "ABX9TyN2XdwmdzfTDaVSlyRF6tB3",
      "include_colab_link": true
    },
    "kernelspec": {
      "name": "python3",
      "display_name": "Python 3"
    },
    "language_info": {
      "name": "python"
    }
  },
  "cells": [
    {
      "cell_type": "markdown",
      "metadata": {
        "id": "view-in-github",
        "colab_type": "text"
      },
      "source": [
        "<a href=\"https://colab.research.google.com/github/art-lmk/House-Price-Regressor-app/blob/main/House_Price_Predictor_app_using_Streamlit_.ipynb\" target=\"_parent\"><img src=\"https://colab.research.google.com/assets/colab-badge.svg\" alt=\"Open In Colab\"/></a>"
      ]
    },
    {
      "cell_type": "code",
      "execution_count": 1,
      "metadata": {
        "colab": {
          "base_uri": "https://localhost:8080/"
        },
        "id": "cu7uOEiQ44wV",
        "outputId": "9f556747-b68d-4850-c060-f0a7262af410"
      },
      "outputs": [
        {
          "output_type": "stream",
          "name": "stdout",
          "text": [
            "\u001b[2K   \u001b[90m━━━━━━━━━━━━━━━━━━━━━━━━━━━━━━━━━━━━━━━━\u001b[0m \u001b[32m10.0/10.0 MB\u001b[0m \u001b[31m23.9 MB/s\u001b[0m eta \u001b[36m0:00:00\u001b[0m\n",
            "\u001b[2K   \u001b[90m━━━━━━━━━━━━━━━━━━━━━━━━━━━━━━━━━━━━━━━━\u001b[0m \u001b[32m6.9/6.9 MB\u001b[0m \u001b[31m37.3 MB/s\u001b[0m eta \u001b[36m0:00:00\u001b[0m\n",
            "\u001b[?25hSuccessfully\n"
          ]
        }
      ],
      "source": [
        "# Install necessary libraries\n",
        "!pip install streamlit -q\n",
        "!pip install pyngrok -q\n",
        "!pip install joblib -q\n",
        "!pip install scikit-learn -q\n",
        "\n",
        "print ('Successfully')"
      ]
    },
    {
      "cell_type": "code",
      "source": [
        "# Cell 2: Train the model and save it\n",
        "import pandas as pd\n",
        "# from sklearn.datasets import fetch_california_housing # Using California Housing as Boston is deprecated\n",
        "from sklearn.linear_model import LinearRegression\n",
        "import joblib\n",
        "\n",
        "# Load dataset\n",
        "# california = fetch_california_housing()\n",
        "# df = pd.DataFrame(california.data, columns=california.feature_names)\n",
        "df = pd.read_csv('housing.csv')\n",
        "# df['MEDV'] = california.target * 100000 # Convert to approximate dollar value\n",
        "\n",
        "\n",
        "# Define features and target\n",
        "# Using: MedInc (Median Income), HouseAge, AveRooms (Average Rooms)\n",
        "feature_names = ['RM', 'LSTAT', 'PTRATIO']\n",
        "X = df[feature_names]\n",
        "y = df['MEDV']\n",
        "\n",
        "# Train the model\n",
        "model = LinearRegression()\n",
        "model.fit(X, y)\n",
        "\n",
        "# Save the model\n",
        "joblib.dump(model, 'house_price_model.pkl')\n",
        "print(\"Model trained and saved! Features used:\", feature_names)\n",
        "print(f\"Model Intercept: ${model.intercept_:.2f}\")\n",
        "for i, feature in enumerate(feature_names):\n",
        "    print(f\" Coefficient for {feature}: {model.coef_[i]:.2f}\")"
      ],
      "metadata": {
        "colab": {
          "base_uri": "https://localhost:8080/"
        },
        "id": "7_YauUqa5aY4",
        "outputId": "9c57479e-7407-4a42-e456-a05204a5ceb7"
      },
      "execution_count": 4,
      "outputs": [
        {
          "output_type": "stream",
          "name": "stdout",
          "text": [
            "Model trained and saved! Features used: ['RM', 'LSTAT', 'PTRATIO']\n",
            "Model Intercept: $415464.40\n",
            " Coefficient for RM: 86565.24\n",
            " Coefficient for LSTAT: -10849.34\n",
            " Coefficient for PTRATIO: -19492.12\n"
          ]
        }
      ]
    },
    {
      "cell_type": "code",
      "source": [
        "# Cell 3: Write the Streamlit app code to a file (This is the frontend)\n",
        "%%writefile app.py\n",
        "import streamlit as st\n",
        "import joblib\n",
        "import numpy as np\n",
        "\n",
        "# Load the trained model\n",
        "model = joblib.load('house_price_model.pkl')\n",
        "\n",
        "# App UI\n",
        "st.set_page_config(page_title=\"🏠 House Price Predictor\", layout=\"centered\")\n",
        "st.title(\"🏠 AI House Price Predictor\")\n",
        "st.markdown(\"\"\"\n",
        "This app predicts **California House Prices** based on:\n",
        "- **pupil-teacher ratio per town** of the household\n",
        "- **Lower status population** of the house\n",
        "- **Average Number of Rooms**\n",
        "\"\"\")\n",
        "\n",
        "# Create input fields with sliders\n",
        "st.header(\"Enter House Details\")\n",
        "ptratio = st.slider('Pupil-Teacher Ratio (PTRATIO)', 12.0, 23.0, 19.0, 0.1)\n",
        "lstat = st.slider('% Lower Status Population (LSTAT)', 1.0, 40.0, 12.0, 0.5)\n",
        "ave_rooms = st.slider('Average Number of Rooms', 1.0, 10.0, 5.0, 0.1)\n",
        "\n",
        "# Format the input for the model\n",
        "input_data = np.array([[ptratio, lstat, ave_rooms]])\n",
        "\n",
        "# Make prediction\n",
        "if st.button('Predict Price', type='primary'):\n",
        "    prediction = model.predict(input_data)[0]\n",
        "    st.balloons()\n",
        "    st.success(f'### 🎯 Predicted House Price: **${prediction:,.2f}**')\n",
        "    st.info(\"💡 This is an estimate based on a machine learning model.\")\n",
        "\n",
        "# Add some explanation\n",
        "with st.expander(\"ℹ️ How does this work?\"):\n",
        "    st.markdown(\"\"\"\n",
        "    This is a **Multiple Linear Regression** model. It learned the relationship between house features and their prices from a large dataset of California homes.\n",
        "    - It was built using `scikit-learn` and `Streamlit`.\n",
        "    - The model is running live right here in the cloud on Google Colab!\n",
        "    \"\"\")"
      ],
      "metadata": {
        "colab": {
          "base_uri": "https://localhost:8080/"
        },
        "id": "Yo1k1g5b6OeG",
        "outputId": "f77cb90a-f7ee-415c-92ae-7a5ac4a14228"
      },
      "execution_count": 5,
      "outputs": [
        {
          "output_type": "stream",
          "name": "stdout",
          "text": [
            "Writing app.py\n"
          ]
        }
      ]
    },
    {
      "cell_type": "code",
      "source": [
        "# Cell 4: Using Environment Variables\n",
        "import os\n",
        "from google.colab import userdata\n",
        "\n",
        "# Install required packages\n",
        "!pip install pyngrok -q\n",
        "!wget https://bin.equinox.io/c/bNyj1mQVY4c/ngrok-v3-stable-linux-amd64.tgz -O ngrok.tgz\n",
        "!tar -xzf ngrok.tgz\n",
        "\n",
        "# Use Google Colab's built-in secrets manager (most secure)\n",
        "# First, set your token in Colab secrets: click on the key icon in the left sidebar\n",
        "try:\n",
        "    ngrok_token = userdata.get('NGROK_TOKEN')\n",
        "    !./ngrok authtoken $ngrok_token\n",
        "    print(\"✅ Ngrok authenticated using Colab secrets!\")\n",
        "except userdata.SecretNotFoundError:\n",
        "    print(\"Please set NGROK_TOKEN in Colab secrets (left sidebar key icon)\")"
      ],
      "metadata": {
        "colab": {
          "base_uri": "https://localhost:8080/"
        },
        "id": "rkao3HwS792G",
        "outputId": "17509e83-dec4-4e89-fc9e-ee9e3edcc2ff"
      },
      "execution_count": 12,
      "outputs": [
        {
          "output_type": "stream",
          "name": "stdout",
          "text": [
            "--2025-09-01 08:28:44--  https://bin.equinox.io/c/bNyj1mQVY4c/ngrok-v3-stable-linux-amd64.tgz\n",
            "Resolving bin.equinox.io (bin.equinox.io)... 75.2.60.68, 13.248.244.96, 99.83.220.108, ...\n",
            "Connecting to bin.equinox.io (bin.equinox.io)|75.2.60.68|:443... connected.\n",
            "HTTP request sent, awaiting response... 200 OK\n",
            "Length: 9279009 (8.8M) [application/octet-stream]\n",
            "Saving to: ‘ngrok.tgz’\n",
            "\n",
            "ngrok.tgz           100%[===================>]   8.85M  35.8MB/s    in 0.2s    \n",
            "\n",
            "2025-09-01 08:28:44 (35.8 MB/s) - ‘ngrok.tgz’ saved [9279009/9279009]\n",
            "\n",
            "Authtoken saved to configuration file: /root/.config/ngrok/ngrok.yml\n",
            "✅ Ngrok authenticated using Colab secrets!\n"
          ]
        }
      ]
    },
    {
      "cell_type": "code",
      "source": [
        "# Cell 5: Launch the Streamlit app with ngrok\n",
        "from pyngrok import ngrok\n",
        "import time\n",
        "import threading\n",
        "\n",
        "# Function to run the Streamlit server in the background\n",
        "def run_streamlit():\n",
        "    # This command runs Streamlit with settings that work well in Colab\n",
        "    !streamlit run app.py --server.port 8501 --server.enableCORS false --server.enableXsrfProtection false\n",
        "\n",
        "# Terminate any existing ngrok tunnels to avoid conflicts\n",
        "# ngrok.kill() # Removed this line as it is not necessary and might interfere with authentication\n",
        "\n",
        "# Set up a secure tunnel to Streamlit's port (8501)\n",
        "print(\"🚀 Starting ngrok tunnel...\")\n",
        "public_url = ngrok.connect(addr='8501', proto='http')\n",
        "print(f\"✅ Tunnel created successfully!\")\n",
        "\n",
        "# Print the public URL - THIS IS THE LINK FOR YOUR PHONE\n",
        "print(\"✨ Your AI House Price Predictor is now live!\")\n",
        "print(\"🌐 ** Public App URL: **\")\n",
        "print(f\"   {public_url}\")\n",
        "print(\"\\n📱 Open this URL on your phone's browser to use the app!\")\n",
        "\n",
        "# Start the Streamlit server in a separate thread\n",
        "# This allows the ngrok tunnel to stay active while Streamlit runs\n",
        "print(\"\\n⏳ Starting the AI server... (please wait 5-10 seconds)\")\n",
        "thread = threading.Thread(target=run_streamlit, daemon=True)\n",
        "thread.start()\n",
        "\n",
        "# Give the server some time to start up completely\n",
        "time.sleep(8)\n",
        "\n",
        "# Final instructions\n",
        "print(\"--------------------------------------------------------------------------------\")\n",
        "print(\"🎯 App is ready! Copy the URL above and open it on any device.\")\n",
        "print(\"⚠️  Keep this Colab tab running to keep your app online.\")\n",
        "print(\"   If you close this tab, your app will shut down.\")\n",
        "print(\"--------------------------------------------------------------------------------\")"
      ],
      "metadata": {
        "colab": {
          "base_uri": "https://localhost:8080/"
        },
        "id": "f8OkGgE6CQDt",
        "outputId": "6bd406e7-b8f2-4897-9f4a-6179a1505f18"
      },
      "execution_count": 13,
      "outputs": [
        {
          "output_type": "stream",
          "name": "stdout",
          "text": [
            "🚀 Starting ngrok tunnel...\n",
            "✅ Tunnel created successfully!\n",
            "✨ Your AI House Price Predictor is now live!\n",
            "🌐 ** Public App URL: **\n",
            "   NgrokTunnel: \"https://af06480766b8.ngrok-free.app\" -> \"http://localhost:8501\"\n",
            "\n",
            "📱 Open this URL on your phone's browser to use the app!\n",
            "\n",
            "⏳ Starting the AI server... (please wait 5-10 seconds)\n",
            "\n",
            "Collecting usage statistics. To deactivate, set browser.gatherUsageStats to false.\n",
            "\u001b[0m\n",
            "\u001b[0m\n",
            "\u001b[34m\u001b[1m  You can now view your Streamlit app in your browser.\u001b[0m\n",
            "\u001b[0m\n",
            "\u001b[34m  Local URL: \u001b[0m\u001b[1mhttp://localhost:8501\u001b[0m\n",
            "\u001b[34m  Network URL: \u001b[0m\u001b[1mhttp://172.28.0.12:8501\u001b[0m\n",
            "\u001b[34m  External URL: \u001b[0m\u001b[1mhttp://34.23.45.228:8501\u001b[0m\n",
            "\u001b[0m\n",
            "--------------------------------------------------------------------------------\n",
            "🎯 App is ready! Copy the URL above and open it on any device.\n",
            "⚠️  Keep this Colab tab running to keep your app online.\n",
            "   If you close this tab, your app will shut down.\n",
            "--------------------------------------------------------------------------------\n"
          ]
        }
      ]
    },
    {
      "cell_type": "markdown",
      "metadata": {
        "id": "62aecf3c"
      },
      "source": [
        "### Troubleshooting ngrok Authentication Error (ERR_NGROK_4018)\n",
        "\n",
        "This error occurs when ngrok cannot authenticate, usually because the authtoken is missing or incorrect.\n",
        "\n",
        "**To fix this:**\n",
        "\n",
        "1.  Open the **Secrets** panel in the left sidebar (click the 🔑 icon).\n",
        "2.  Click **New secret**.\n",
        "3.  Set the **Name** to `NGROK_TOKEN`.\n",
        "4.  Set the **Value** to your actual ngrok authtoken (found on your ngrok dashboard).\n",
        "5.  Ensure **Notebook access** is toggled ON for this secret.\n",
        "6.  Re-run the code cell that uses `userdata.get('NGROK_TOKEN')` (Cell 4) and then the cell that launches ngrok (Cell 5)."
      ]
    }
  ]
}